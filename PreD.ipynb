{
  "nbformat": 4,
  "nbformat_minor": 0,
  "metadata": {
    "colab": {
      "provenance": [],
      "authorship_tag": "ABX9TyNceabpp3TWG3ys5Ji3vUfT",
      "include_colab_link": true
    },
    "kernelspec": {
      "name": "python3",
      "display_name": "Python 3"
    },
    "language_info": {
      "name": "python"
    }
  },
  "cells": [
    {
      "cell_type": "markdown",
      "metadata": {
        "id": "view-in-github",
        "colab_type": "text"
      },
      "source": [
        "<a href=\"https://colab.research.google.com/github/joyal-jkp/MAIN_PROJECT/blob/main/PreD.ipynb\" target=\"_parent\"><img src=\"https://colab.research.google.com/assets/colab-badge.svg\" alt=\"Open In Colab\"/></a>"
      ]
    },
    {
      "cell_type": "code",
      "execution_count": 13,
      "metadata": {
        "id": "0GGH40J8Ya-a"
      },
      "outputs": [],
      "source": [
        "import pandas as pd"
      ]
    },
    {
      "cell_type": "code",
      "source": [
        "from scipy.io import loadmat\n",
        "import scipy"
      ],
      "metadata": {
        "id": "nNFhnxRsezHH"
      },
      "execution_count": 14,
      "outputs": []
    },
    {
      "cell_type": "code",
      "source": [
        "mat=scipy.io.loadmat('/content/sample_data/H-A-1.mat')\n",
        "mat\n",
        "xaxis1=mat[\"Channel_1\"]\n",
        "yaxis1=mat[\"Channel_2\"]"
      ],
      "metadata": {
        "id": "0ZoqDaVje152"
      },
      "execution_count": 15,
      "outputs": []
    },
    {
      "cell_type": "code",
      "source": [
        "mat=scipy.io.loadmat('/content/sample_data/H-B-1.mat')\n",
        "mat\n",
        "xaxis2=mat[\"Channel_1\"]\n",
        "yaxis2=mat[\"Channel_2\"]"
      ],
      "metadata": {
        "id": "7ANE4QY5YsuP"
      },
      "execution_count": 16,
      "outputs": []
    },
    {
      "cell_type": "code",
      "source": [
        "mat=scipy.io.loadmat('/content/sample_data/H-C-1.mat')\n",
        "mat\n",
        "xaxis3=mat[\"Channel_1\"]\n",
        "yaxis3=mat[\"Channel_2\"]"
      ],
      "metadata": {
        "id": "EA1plR5tZDnK"
      },
      "execution_count": 17,
      "outputs": []
    },
    {
      "cell_type": "code",
      "source": [
        "mat=scipy.io.loadmat('/content/sample_data/H-D-1.mat')\n",
        "mat\n",
        "xaxis4=mat[\"Channel_1\"]\n",
        "yaxis4=mat[\"Channel_2\"]"
      ],
      "metadata": {
        "id": "hMa0GykgZLJC"
      },
      "execution_count": 18,
      "outputs": []
    },
    {
      "cell_type": "code",
      "source": [
        "mat=scipy.io.loadmat('/content/sample_data/I-A-1.mat')\n",
        "mat\n",
        "xaxis5=mat[\"Channel_1\"]\n",
        "yaxis5=mat[\"Channel_2\"]"
      ],
      "metadata": {
        "id": "5u8aCw1BZP3N"
      },
      "execution_count": 19,
      "outputs": []
    },
    {
      "cell_type": "code",
      "source": [
        "mat=scipy.io.loadmat('/content/sample_data/I-B-1.mat')\n",
        "mat\n",
        "xaxis6=mat[\"Channel_1\"]\n",
        "yaxis6=mat[\"Channel_2\"]"
      ],
      "metadata": {
        "id": "nsAgP628ZVly"
      },
      "execution_count": 20,
      "outputs": []
    },
    {
      "cell_type": "code",
      "source": [
        "mat=scipy.io.loadmat('/content/sample_data/I-C-1.mat')\n",
        "mat\n",
        "xaxis7=mat[\"Channel_1\"]\n",
        "yaxis7=mat[\"Channel_2\"]"
      ],
      "metadata": {
        "id": "Jq08etvIZcc0"
      },
      "execution_count": 21,
      "outputs": []
    },
    {
      "cell_type": "code",
      "source": [
        "mat=scipy.io.loadmat('/content/sample_data/I-D-1.mat')\n",
        "mat\n",
        "xaxis8=mat[\"Channel_1\"]\n",
        "yaxis8=mat[\"Channel_2\"]"
      ],
      "metadata": {
        "id": "gN6JJzidZwwW"
      },
      "execution_count": 22,
      "outputs": []
    },
    {
      "cell_type": "code",
      "source": [
        "mat=scipy.io.loadmat('/content/sample_data/O-B-1.mat')\n",
        "mat\n",
        "xaxis10=mat[\"Channel_1\"]\n",
        "yaxis10=mat[\"Channel_2\"]"
      ],
      "metadata": {
        "id": "jSrDYcanajWH"
      },
      "execution_count": 23,
      "outputs": []
    },
    {
      "cell_type": "code",
      "source": [
        "mat=scipy.io.loadmat('/content/sample_data/O-A-1.mat')\n",
        "mat\n",
        "xaxis9=mat[\"Channel_1\"]\n",
        "yaxis9=mat[\"Channel_2\"]"
      ],
      "metadata": {
        "id": "GubZlUEQaHeG"
      },
      "execution_count": 24,
      "outputs": []
    },
    {
      "cell_type": "code",
      "source": [
        "mat=scipy.io.loadmat('/content/sample_data/O-C-1.mat')\n",
        "mat\n",
        "xaxis11=mat[\"Channel_1\"]\n",
        "yaxis11=mat[\"Channel_2\"]"
      ],
      "metadata": {
        "id": "hex_34PAa1t0"
      },
      "execution_count": 25,
      "outputs": []
    },
    {
      "cell_type": "code",
      "source": [
        "mat=scipy.io.loadmat('/content/sample_data/O-D-1.mat')\n",
        "mat\n",
        "xaxis12=mat[\"Channel_1\"]\n",
        "yaxis12=mat[\"Channel_2\"]"
      ],
      "metadata": {
        "id": "q6o6DZDFbJ5M"
      },
      "execution_count": 26,
      "outputs": []
    },
    {
      "cell_type": "code",
      "source": [
        "vibra1=xaxis1.flatten()\n",
        "speed1=yaxis1.flatten()\n",
        "li1=[vibra1,speed1]"
      ],
      "metadata": {
        "id": "2mbOb4oij9Ie"
      },
      "execution_count": 27,
      "outputs": []
    },
    {
      "cell_type": "code",
      "source": [
        "vibra2=xaxis2.flatten()\n",
        "speed2=yaxis2.flatten()\n",
        "li2=[vibra2,speed2]"
      ],
      "metadata": {
        "id": "9Y7lomlSipef"
      },
      "execution_count": 28,
      "outputs": []
    },
    {
      "cell_type": "code",
      "source": [
        "vibra3=xaxis3.flatten()\n",
        "speed3=yaxis3.flatten()\n",
        "li3=[vibra3,speed3]"
      ],
      "metadata": {
        "id": "EEk7MMvPiru2"
      },
      "execution_count": 29,
      "outputs": []
    },
    {
      "cell_type": "code",
      "source": [
        "vibra4=xaxis4.flatten()\n",
        "speed4=yaxis4.flatten()\n",
        "li4=[vibra4,speed4]"
      ],
      "metadata": {
        "id": "4sMnqZxXir5u"
      },
      "execution_count": 30,
      "outputs": []
    },
    {
      "cell_type": "code",
      "source": [
        "vibra5=xaxis5.flatten()\n",
        "speed5=yaxis5.flatten()\n",
        "li5=[vibra5,speed5]"
      ],
      "metadata": {
        "id": "LQKZHvOaisEG"
      },
      "execution_count": 31,
      "outputs": []
    },
    {
      "cell_type": "code",
      "source": [
        "vibra6=xaxis6.flatten()\n",
        "speed6=yaxis6.flatten()\n",
        "li6=[vibra6,speed6]"
      ],
      "metadata": {
        "id": "Bh8iR5YSisOC"
      },
      "execution_count": 32,
      "outputs": []
    },
    {
      "cell_type": "code",
      "source": [
        "vibra7=xaxis7.flatten()\n",
        "speed7=yaxis7.flatten()\n",
        "li7=[vibra7,speed7]"
      ],
      "metadata": {
        "id": "kRGL5a_QisX6"
      },
      "execution_count": 33,
      "outputs": []
    },
    {
      "cell_type": "code",
      "source": [
        "vibra8=xaxis8.flatten()\n",
        "speed8=yaxis8.flatten()\n",
        "li8=[vibra8,speed8]"
      ],
      "metadata": {
        "id": "KFm2IBa9isht"
      },
      "execution_count": 34,
      "outputs": []
    },
    {
      "cell_type": "code",
      "source": [
        "vibra9=xaxis9.flatten()\n",
        "speed9=yaxis9.flatten()\n",
        "li9=[vibra9,speed9]"
      ],
      "metadata": {
        "id": "LivUJAjzis-G"
      },
      "execution_count": 35,
      "outputs": []
    },
    {
      "cell_type": "code",
      "source": [
        "vibra10=xaxis10.flatten()\n",
        "speed10=yaxis10.flatten()\n",
        "li10=[vibra10,speed10]"
      ],
      "metadata": {
        "id": "15J740M7ipot"
      },
      "execution_count": 36,
      "outputs": []
    },
    {
      "cell_type": "code",
      "source": [
        "vibra11=xaxis11.flatten()\n",
        "speed11=yaxis11.flatten()\n",
        "li11=[vibra11,speed11]"
      ],
      "metadata": {
        "id": "R9QHxKkYitKM"
      },
      "execution_count": 37,
      "outputs": []
    },
    {
      "cell_type": "code",
      "source": [
        "vibra12=xaxis12.flatten()\n",
        "speed12=yaxis12.flatten()\n",
        "li12=[vibra12,speed12]"
      ],
      "metadata": {
        "id": "UXJEuViRitVr"
      },
      "execution_count": 38,
      "outputs": []
    },
    {
      "cell_type": "code",
      "source": [
        "df_from_arr1 = pd.DataFrame(data=[vibra1,speed1]).T\n",
        "df_from_arr2 = pd.DataFrame(data=[vibra2,speed2]).T\n",
        "df_from_arr3 = pd.DataFrame(data=[vibra3,speed3]).T\n",
        "df_from_arr4 = pd.DataFrame(data=[vibra4,speed4]).T\n",
        "df_from_arr5 = pd.DataFrame(data=[vibra5,speed5]).T\n",
        "df_from_arr6 = pd.DataFrame(data=[vibra6,speed6]).T\n",
        "df_from_arr7= pd.DataFrame(data=[vibra7,speed7]).T\n",
        "df_from_arr8= pd.DataFrame(data=[vibra8,speed8]).T\n",
        "df_from_arr9= pd.DataFrame(data=[vibra9,speed9]).T\n",
        "df_from_arr10 = pd.DataFrame(data=[vibra10,speed10]).T\n",
        "df_from_arr11= pd.DataFrame(data=[vibra11,speed11]).T\n",
        "df_from_arr12= pd.DataFrame(data=[vibra12,speed12]).T\n",
        "df1=df_from_arr1.head(100000)\n",
        "df2=df_from_arr2.head(100000)\n",
        "df3=df_from_arr3.head(100000)\n",
        "df4=df_from_arr4.head(100000)\n",
        "df5=df_from_arr5.head(100000)\n",
        "df6=df_from_arr6.head(100000)\n",
        "df7=df_from_arr7.head(100000)\n",
        "df8=df_from_arr8.head(100000)\n",
        "df9=df_from_arr9.head(100000)\n",
        "df10=df_from_arr10.head(100000)\n",
        "df11=df_from_arr11.head(100000)\n",
        "df12=df_from_arr12.head(100000)"
      ],
      "metadata": {
        "id": "rDfwAK8B_26C"
      },
      "execution_count": 39,
      "outputs": []
    },
    {
      "cell_type": "code",
      "source": [
        "frames = [df1, df2, df3,df4,df5,df6,df7,df8,df9,df10,df11,df12]\n",
        "result = pd.concat(frames)\n",
        "result"
      ],
      "metadata": {
        "colab": {
          "base_uri": "https://localhost:8080/",
          "height": 424
        },
        "id": "19N1E2D6qdnc",
        "outputId": "aa70f08a-dc78-4353-9f53-54b98c032b17"
      },
      "execution_count": 40,
      "outputs": [
        {
          "output_type": "execute_result",
          "data": {
            "text/plain": [
              "              0         1\n",
              "0     -0.002199  4.188767\n",
              "1     -0.001871  4.200603\n",
              "2     -0.001542  4.208165\n",
              "3     -0.001871  4.226576\n",
              "4     -0.002199  4.240385\n",
              "...         ...       ...\n",
              "99995 -0.006146  0.036675\n",
              "99996 -0.006803  0.037332\n",
              "99997 -0.007132  0.037003\n",
              "99998 -0.007790  4.184493\n",
              "99999 -0.006803  4.229207\n",
              "\n",
              "[1200000 rows x 2 columns]"
            ],
            "text/html": [
              "\n",
              "  <div id=\"df-26daabd6-6a52-4016-8c76-e7a5191f4127\">\n",
              "    <div class=\"colab-df-container\">\n",
              "      <div>\n",
              "<style scoped>\n",
              "    .dataframe tbody tr th:only-of-type {\n",
              "        vertical-align: middle;\n",
              "    }\n",
              "\n",
              "    .dataframe tbody tr th {\n",
              "        vertical-align: top;\n",
              "    }\n",
              "\n",
              "    .dataframe thead th {\n",
              "        text-align: right;\n",
              "    }\n",
              "</style>\n",
              "<table border=\"1\" class=\"dataframe\">\n",
              "  <thead>\n",
              "    <tr style=\"text-align: right;\">\n",
              "      <th></th>\n",
              "      <th>0</th>\n",
              "      <th>1</th>\n",
              "    </tr>\n",
              "  </thead>\n",
              "  <tbody>\n",
              "    <tr>\n",
              "      <th>0</th>\n",
              "      <td>-0.002199</td>\n",
              "      <td>4.188767</td>\n",
              "    </tr>\n",
              "    <tr>\n",
              "      <th>1</th>\n",
              "      <td>-0.001871</td>\n",
              "      <td>4.200603</td>\n",
              "    </tr>\n",
              "    <tr>\n",
              "      <th>2</th>\n",
              "      <td>-0.001542</td>\n",
              "      <td>4.208165</td>\n",
              "    </tr>\n",
              "    <tr>\n",
              "      <th>3</th>\n",
              "      <td>-0.001871</td>\n",
              "      <td>4.226576</td>\n",
              "    </tr>\n",
              "    <tr>\n",
              "      <th>4</th>\n",
              "      <td>-0.002199</td>\n",
              "      <td>4.240385</td>\n",
              "    </tr>\n",
              "    <tr>\n",
              "      <th>...</th>\n",
              "      <td>...</td>\n",
              "      <td>...</td>\n",
              "    </tr>\n",
              "    <tr>\n",
              "      <th>99995</th>\n",
              "      <td>-0.006146</td>\n",
              "      <td>0.036675</td>\n",
              "    </tr>\n",
              "    <tr>\n",
              "      <th>99996</th>\n",
              "      <td>-0.006803</td>\n",
              "      <td>0.037332</td>\n",
              "    </tr>\n",
              "    <tr>\n",
              "      <th>99997</th>\n",
              "      <td>-0.007132</td>\n",
              "      <td>0.037003</td>\n",
              "    </tr>\n",
              "    <tr>\n",
              "      <th>99998</th>\n",
              "      <td>-0.007790</td>\n",
              "      <td>4.184493</td>\n",
              "    </tr>\n",
              "    <tr>\n",
              "      <th>99999</th>\n",
              "      <td>-0.006803</td>\n",
              "      <td>4.229207</td>\n",
              "    </tr>\n",
              "  </tbody>\n",
              "</table>\n",
              "<p>1200000 rows × 2 columns</p>\n",
              "</div>\n",
              "      <button class=\"colab-df-convert\" onclick=\"convertToInteractive('df-26daabd6-6a52-4016-8c76-e7a5191f4127')\"\n",
              "              title=\"Convert this dataframe to an interactive table.\"\n",
              "              style=\"display:none;\">\n",
              "        \n",
              "  <svg xmlns=\"http://www.w3.org/2000/svg\" height=\"24px\"viewBox=\"0 0 24 24\"\n",
              "       width=\"24px\">\n",
              "    <path d=\"M0 0h24v24H0V0z\" fill=\"none\"/>\n",
              "    <path d=\"M18.56 5.44l.94 2.06.94-2.06 2.06-.94-2.06-.94-.94-2.06-.94 2.06-2.06.94zm-11 1L8.5 8.5l.94-2.06 2.06-.94-2.06-.94L8.5 2.5l-.94 2.06-2.06.94zm10 10l.94 2.06.94-2.06 2.06-.94-2.06-.94-.94-2.06-.94 2.06-2.06.94z\"/><path d=\"M17.41 7.96l-1.37-1.37c-.4-.4-.92-.59-1.43-.59-.52 0-1.04.2-1.43.59L10.3 9.45l-7.72 7.72c-.78.78-.78 2.05 0 2.83L4 21.41c.39.39.9.59 1.41.59.51 0 1.02-.2 1.41-.59l7.78-7.78 2.81-2.81c.8-.78.8-2.07 0-2.86zM5.41 20L4 18.59l7.72-7.72 1.47 1.35L5.41 20z\"/>\n",
              "  </svg>\n",
              "      </button>\n",
              "      \n",
              "  <style>\n",
              "    .colab-df-container {\n",
              "      display:flex;\n",
              "      flex-wrap:wrap;\n",
              "      gap: 12px;\n",
              "    }\n",
              "\n",
              "    .colab-df-convert {\n",
              "      background-color: #E8F0FE;\n",
              "      border: none;\n",
              "      border-radius: 50%;\n",
              "      cursor: pointer;\n",
              "      display: none;\n",
              "      fill: #1967D2;\n",
              "      height: 32px;\n",
              "      padding: 0 0 0 0;\n",
              "      width: 32px;\n",
              "    }\n",
              "\n",
              "    .colab-df-convert:hover {\n",
              "      background-color: #E2EBFA;\n",
              "      box-shadow: 0px 1px 2px rgba(60, 64, 67, 0.3), 0px 1px 3px 1px rgba(60, 64, 67, 0.15);\n",
              "      fill: #174EA6;\n",
              "    }\n",
              "\n",
              "    [theme=dark] .colab-df-convert {\n",
              "      background-color: #3B4455;\n",
              "      fill: #D2E3FC;\n",
              "    }\n",
              "\n",
              "    [theme=dark] .colab-df-convert:hover {\n",
              "      background-color: #434B5C;\n",
              "      box-shadow: 0px 1px 3px 1px rgba(0, 0, 0, 0.15);\n",
              "      filter: drop-shadow(0px 1px 2px rgba(0, 0, 0, 0.3));\n",
              "      fill: #FFFFFF;\n",
              "    }\n",
              "  </style>\n",
              "\n",
              "      <script>\n",
              "        const buttonEl =\n",
              "          document.querySelector('#df-26daabd6-6a52-4016-8c76-e7a5191f4127 button.colab-df-convert');\n",
              "        buttonEl.style.display =\n",
              "          google.colab.kernel.accessAllowed ? 'block' : 'none';\n",
              "\n",
              "        async function convertToInteractive(key) {\n",
              "          const element = document.querySelector('#df-26daabd6-6a52-4016-8c76-e7a5191f4127');\n",
              "          const dataTable =\n",
              "            await google.colab.kernel.invokeFunction('convertToInteractive',\n",
              "                                                     [key], {});\n",
              "          if (!dataTable) return;\n",
              "\n",
              "          const docLinkHtml = 'Like what you see? Visit the ' +\n",
              "            '<a target=\"_blank\" href=https://colab.research.google.com/notebooks/data_table.ipynb>data table notebook</a>'\n",
              "            + ' to learn more about interactive tables.';\n",
              "          element.innerHTML = '';\n",
              "          dataTable['output_type'] = 'display_data';\n",
              "          await google.colab.output.renderOutput(dataTable, element);\n",
              "          const docLink = document.createElement('div');\n",
              "          docLink.innerHTML = docLinkHtml;\n",
              "          element.appendChild(docLink);\n",
              "        }\n",
              "      </script>\n",
              "    </div>\n",
              "  </div>\n",
              "  "
            ]
          },
          "metadata": {},
          "execution_count": 40
        }
      ]
    },
    {
      "cell_type": "code",
      "source": [
        "result.rename(\n",
        "    columns=({ 0: 'Vibration', 1:'Speed'}), \n",
        "    inplace=True,\n",
        ")"
      ],
      "metadata": {
        "id": "57Fq8NRnE5LZ"
      },
      "execution_count": 41,
      "outputs": []
    },
    {
      "cell_type": "code",
      "source": [
        "result.to_csv('dataset.csv',index=False)"
      ],
      "metadata": {
        "id": "OwX2ljIVASvL"
      },
      "execution_count": 42,
      "outputs": []
    },
    {
      "cell_type": "code",
      "source": [
        "data=pd.read_csv('/content/dataset.csv')\n",
        "data"
      ],
      "metadata": {
        "colab": {
          "base_uri": "https://localhost:8080/",
          "height": 424
        },
        "id": "b_a5R0SMBMBJ",
        "outputId": "c751f98e-75bd-4bbf-8fd3-9b0e3220740d"
      },
      "execution_count": 43,
      "outputs": [
        {
          "output_type": "execute_result",
          "data": {
            "text/plain": [
              "         Vibration     Speed\n",
              "0        -0.002199  4.188767\n",
              "1        -0.001871  4.200603\n",
              "2        -0.001542  4.208165\n",
              "3        -0.001871  4.226576\n",
              "4        -0.002199  4.240385\n",
              "...            ...       ...\n",
              "1199995  -0.006146  0.036675\n",
              "1199996  -0.006803  0.037332\n",
              "1199997  -0.007132  0.037003\n",
              "1199998  -0.007790  4.184493\n",
              "1199999  -0.006803  4.229207\n",
              "\n",
              "[1200000 rows x 2 columns]"
            ],
            "text/html": [
              "\n",
              "  <div id=\"df-7d4938fe-b0c8-4e09-8bda-0545e78e21e0\">\n",
              "    <div class=\"colab-df-container\">\n",
              "      <div>\n",
              "<style scoped>\n",
              "    .dataframe tbody tr th:only-of-type {\n",
              "        vertical-align: middle;\n",
              "    }\n",
              "\n",
              "    .dataframe tbody tr th {\n",
              "        vertical-align: top;\n",
              "    }\n",
              "\n",
              "    .dataframe thead th {\n",
              "        text-align: right;\n",
              "    }\n",
              "</style>\n",
              "<table border=\"1\" class=\"dataframe\">\n",
              "  <thead>\n",
              "    <tr style=\"text-align: right;\">\n",
              "      <th></th>\n",
              "      <th>Vibration</th>\n",
              "      <th>Speed</th>\n",
              "    </tr>\n",
              "  </thead>\n",
              "  <tbody>\n",
              "    <tr>\n",
              "      <th>0</th>\n",
              "      <td>-0.002199</td>\n",
              "      <td>4.188767</td>\n",
              "    </tr>\n",
              "    <tr>\n",
              "      <th>1</th>\n",
              "      <td>-0.001871</td>\n",
              "      <td>4.200603</td>\n",
              "    </tr>\n",
              "    <tr>\n",
              "      <th>2</th>\n",
              "      <td>-0.001542</td>\n",
              "      <td>4.208165</td>\n",
              "    </tr>\n",
              "    <tr>\n",
              "      <th>3</th>\n",
              "      <td>-0.001871</td>\n",
              "      <td>4.226576</td>\n",
              "    </tr>\n",
              "    <tr>\n",
              "      <th>4</th>\n",
              "      <td>-0.002199</td>\n",
              "      <td>4.240385</td>\n",
              "    </tr>\n",
              "    <tr>\n",
              "      <th>...</th>\n",
              "      <td>...</td>\n",
              "      <td>...</td>\n",
              "    </tr>\n",
              "    <tr>\n",
              "      <th>1199995</th>\n",
              "      <td>-0.006146</td>\n",
              "      <td>0.036675</td>\n",
              "    </tr>\n",
              "    <tr>\n",
              "      <th>1199996</th>\n",
              "      <td>-0.006803</td>\n",
              "      <td>0.037332</td>\n",
              "    </tr>\n",
              "    <tr>\n",
              "      <th>1199997</th>\n",
              "      <td>-0.007132</td>\n",
              "      <td>0.037003</td>\n",
              "    </tr>\n",
              "    <tr>\n",
              "      <th>1199998</th>\n",
              "      <td>-0.007790</td>\n",
              "      <td>4.184493</td>\n",
              "    </tr>\n",
              "    <tr>\n",
              "      <th>1199999</th>\n",
              "      <td>-0.006803</td>\n",
              "      <td>4.229207</td>\n",
              "    </tr>\n",
              "  </tbody>\n",
              "</table>\n",
              "<p>1200000 rows × 2 columns</p>\n",
              "</div>\n",
              "      <button class=\"colab-df-convert\" onclick=\"convertToInteractive('df-7d4938fe-b0c8-4e09-8bda-0545e78e21e0')\"\n",
              "              title=\"Convert this dataframe to an interactive table.\"\n",
              "              style=\"display:none;\">\n",
              "        \n",
              "  <svg xmlns=\"http://www.w3.org/2000/svg\" height=\"24px\"viewBox=\"0 0 24 24\"\n",
              "       width=\"24px\">\n",
              "    <path d=\"M0 0h24v24H0V0z\" fill=\"none\"/>\n",
              "    <path d=\"M18.56 5.44l.94 2.06.94-2.06 2.06-.94-2.06-.94-.94-2.06-.94 2.06-2.06.94zm-11 1L8.5 8.5l.94-2.06 2.06-.94-2.06-.94L8.5 2.5l-.94 2.06-2.06.94zm10 10l.94 2.06.94-2.06 2.06-.94-2.06-.94-.94-2.06-.94 2.06-2.06.94z\"/><path d=\"M17.41 7.96l-1.37-1.37c-.4-.4-.92-.59-1.43-.59-.52 0-1.04.2-1.43.59L10.3 9.45l-7.72 7.72c-.78.78-.78 2.05 0 2.83L4 21.41c.39.39.9.59 1.41.59.51 0 1.02-.2 1.41-.59l7.78-7.78 2.81-2.81c.8-.78.8-2.07 0-2.86zM5.41 20L4 18.59l7.72-7.72 1.47 1.35L5.41 20z\"/>\n",
              "  </svg>\n",
              "      </button>\n",
              "      \n",
              "  <style>\n",
              "    .colab-df-container {\n",
              "      display:flex;\n",
              "      flex-wrap:wrap;\n",
              "      gap: 12px;\n",
              "    }\n",
              "\n",
              "    .colab-df-convert {\n",
              "      background-color: #E8F0FE;\n",
              "      border: none;\n",
              "      border-radius: 50%;\n",
              "      cursor: pointer;\n",
              "      display: none;\n",
              "      fill: #1967D2;\n",
              "      height: 32px;\n",
              "      padding: 0 0 0 0;\n",
              "      width: 32px;\n",
              "    }\n",
              "\n",
              "    .colab-df-convert:hover {\n",
              "      background-color: #E2EBFA;\n",
              "      box-shadow: 0px 1px 2px rgba(60, 64, 67, 0.3), 0px 1px 3px 1px rgba(60, 64, 67, 0.15);\n",
              "      fill: #174EA6;\n",
              "    }\n",
              "\n",
              "    [theme=dark] .colab-df-convert {\n",
              "      background-color: #3B4455;\n",
              "      fill: #D2E3FC;\n",
              "    }\n",
              "\n",
              "    [theme=dark] .colab-df-convert:hover {\n",
              "      background-color: #434B5C;\n",
              "      box-shadow: 0px 1px 3px 1px rgba(0, 0, 0, 0.15);\n",
              "      filter: drop-shadow(0px 1px 2px rgba(0, 0, 0, 0.3));\n",
              "      fill: #FFFFFF;\n",
              "    }\n",
              "  </style>\n",
              "\n",
              "      <script>\n",
              "        const buttonEl =\n",
              "          document.querySelector('#df-7d4938fe-b0c8-4e09-8bda-0545e78e21e0 button.colab-df-convert');\n",
              "        buttonEl.style.display =\n",
              "          google.colab.kernel.accessAllowed ? 'block' : 'none';\n",
              "\n",
              "        async function convertToInteractive(key) {\n",
              "          const element = document.querySelector('#df-7d4938fe-b0c8-4e09-8bda-0545e78e21e0');\n",
              "          const dataTable =\n",
              "            await google.colab.kernel.invokeFunction('convertToInteractive',\n",
              "                                                     [key], {});\n",
              "          if (!dataTable) return;\n",
              "\n",
              "          const docLinkHtml = 'Like what you see? Visit the ' +\n",
              "            '<a target=\"_blank\" href=https://colab.research.google.com/notebooks/data_table.ipynb>data table notebook</a>'\n",
              "            + ' to learn more about interactive tables.';\n",
              "          element.innerHTML = '';\n",
              "          dataTable['output_type'] = 'display_data';\n",
              "          await google.colab.output.renderOutput(dataTable, element);\n",
              "          const docLink = document.createElement('div');\n",
              "          docLink.innerHTML = docLinkHtml;\n",
              "          element.appendChild(docLink);\n",
              "        }\n",
              "      </script>\n",
              "    </div>\n",
              "  </div>\n",
              "  "
            ]
          },
          "metadata": {},
          "execution_count": 43
        }
      ]
    },
    {
      "cell_type": "code",
      "source": [
        "from sklearn.model_selection import train_test_split"
      ],
      "metadata": {
        "id": "7p2UJwbXERno"
      },
      "execution_count": 44,
      "outputs": []
    }
  ]
}